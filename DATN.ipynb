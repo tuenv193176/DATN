{
  "nbformat": 4,
  "nbformat_minor": 0,
  "metadata": {
    "colab": {
      "provenance": [],
      "authorship_tag": "ABX9TyOUkVRoJiUAq3AepCrMlhUf",
      "include_colab_link": true
    },
    "kernelspec": {
      "name": "python3",
      "display_name": "Python 3"
    },
    "language_info": {
      "name": "python"
    }
  },
  "cells": [
    {
      "cell_type": "markdown",
      "metadata": {
        "id": "view-in-github",
        "colab_type": "text"
      },
      "source": [
        "<a href=\"https://colab.research.google.com/github/tuenv193176/DATN/blob/main/DATN.ipynb\" target=\"_parent\"><img src=\"https://colab.research.google.com/assets/colab-badge.svg\" alt=\"Open In Colab\"/></a>"
      ]
    },
    {
      "cell_type": "markdown",
      "source": [
        "# Chuẩn bị dữ liệu"
      ],
      "metadata": {
        "id": "Z1lLdPmpuLGZ"
      }
    },
    {
      "cell_type": "code",
      "execution_count": 1,
      "metadata": {
        "id": "Xl4CdNeBtjdc"
      },
      "outputs": [],
      "source": [
        "import torch\n",
        "import torch.nn as nn\n",
        "import torch.optim as optim\n",
        "from torch.utils.data import DataLoader, TensorDataset\n",
        "from sklearn.model_selection import train_test_split\n",
        "from sklearn.preprocessing import StandardScaler, MinMaxScaler\n",
        "import pandas as pd\n",
        "import numpy as np\n",
        "\n",
        "# Đọc dữ liệu từ file\n",
        "file_path = '/content/resonant_frequencies.csv'\n",
        "df = pd.read_csv(file_path)\n",
        "\n",
        "# Xử lý dữ liệu\n",
        "X = df[['ls1 (mm)', 'ls2 (mm)', 'ls3 (mm)', 'ws1 (mm)', 'ws2 (mm)', 'ws3 (mm)']]\n",
        "y = df[['Frequency 1 (GHz)', 'Frequency 2 (GHz)', 'Frequency 3 (GHz)']]\n",
        "\n",
        "# Thêm cột chỉ báo số lượng tần số cộng hưởng\n",
        "y = y.copy()\n",
        "y.loc[:, 'num_frequencies'] = y.notna().sum(axis=1)\n",
        "\n",
        "# Điền giá trị trung bình cho các giá trị thiếu (NaN)\n",
        "y = y.fillna(y.mean())\n",
        "\n",
        "# Chia dữ liệu thành tập huấn luyện và tập kiểm tra\n",
        "X_train, X_test, y_train, y_test = train_test_split(X, y, test_size=0.2, random_state=42)\n",
        "\n",
        "# Chuẩn hóa dữ liệu\n",
        "scaler = StandardScaler()\n",
        "X_train = scaler.fit_transform(X_train)\n",
        "X_test = scaler.transform(X_test)\n",
        "\n",
        "# Chuẩn hóa tần số cộng hưởng\n",
        "y_scaler = MinMaxScaler()\n",
        "y_train_frequencies = y_train[['Frequency 1 (GHz)', 'Frequency 2 (GHz)', 'Frequency 3 (GHz)']]\n",
        "y_train_frequencies = y_scaler.fit_transform(y_train_frequencies)\n",
        "y_test_frequencies = y_scaler.transform(y_test[['Frequency 1 (GHz)', 'Frequency 2 (GHz)', 'Frequency 3 (GHz)']])\n",
        "\n",
        "# Chuyển đổi dữ liệu sang tensor\n",
        "X_train = torch.tensor(X_train, dtype=torch.float32)\n",
        "X_test = torch.tensor(X_test, dtype=torch.float32)\n",
        "y_train_frequencies = torch.tensor(y_train_frequencies, dtype=torch.float32)\n",
        "y_test_frequencies = torch.tensor(y_test_frequencies, dtype=torch.float32)\n",
        "y_train_num = torch.tensor(y_train['num_frequencies'].values, dtype=torch.float32).view(-1, 1)\n",
        "y_test_num = torch.tensor(y_test['num_frequencies'].values, dtype=torch.float32).view(-1, 1)\n",
        "\n",
        "# Tạo DataLoader\n",
        "train_dataset = TensorDataset(X_train, y_train_frequencies, y_train_num)\n",
        "test_dataset = TensorDataset(X_test, y_test_frequencies, y_test_num)\n",
        "\n",
        "train_loader = DataLoader(train_dataset, batch_size=32, shuffle=True)\n",
        "test_loader = DataLoader(test_dataset, batch_size=32, shuffle=False)\n"
      ]
    },
    {
      "cell_type": "markdown",
      "source": [
        "# Định nghĩa và Huấn luyện Mô hình"
      ],
      "metadata": {
        "id": "AwntGebauadH"
      }
    },
    {
      "cell_type": "code",
      "source": [
        "# Định nghĩa mô hình ANN\n",
        "class ANN_Model(nn.Module):\n",
        "    def __init__(self):\n",
        "        super(ANN_Model, self).__init__()\n",
        "        self.fc1 = nn.Linear(6, 256)\n",
        "        self.fc2 = nn.Linear(256, 128)\n",
        "        self.fc3 = nn.Linear(128, 64)\n",
        "        self.fc4 = nn.Linear(64, 32)\n",
        "        self.fc5_freq = nn.Linear(32, 3)  # Dự đoán tần số cộng hưởng\n",
        "        self.fc5_num = nn.Linear(32, 1)  # Dự đoán số lượng tần số cộng hưởng\n",
        "        self.dropout = nn.Dropout(0.3)\n",
        "\n",
        "    def forward(self, x):\n",
        "        x = torch.relu(self.fc1(x))\n",
        "        x = self.dropout(x)\n",
        "        x = torch.relu(self.fc2(x))\n",
        "        x = self.dropout(x)\n",
        "        x = torch.relu(self.fc3(x))\n",
        "        x = self.dropout(x)\n",
        "        x = torch.relu(self.fc4(x))\n",
        "        frequencies = self.fc5_freq(x)\n",
        "        num_frequencies = torch.sigmoid(self.fc5_num(x)) * 3  # Đầu ra là giữa 0 và 3\n",
        "        return frequencies, num_frequencies\n",
        "\n",
        "# Khởi tạo mô hình, định nghĩa hàm mất mát và bộ tối ưu\n",
        "model = ANN_Model()\n",
        "criterion_freq = nn.MSELoss()\n",
        "criterion_num = nn.MSELoss()\n",
        "optimizer = optim.Adam(model.parameters(), lr=0.001)\n",
        "\n",
        "# Huấn luyện mô hình\n",
        "epochs = 1000\n",
        "for epoch in range(epochs):\n",
        "    model.train()\n",
        "    running_loss_freq = 0.0\n",
        "    running_loss_num = 0.0\n",
        "    for inputs, targets_freq, targets_num in train_loader:\n",
        "        optimizer.zero_grad()\n",
        "        outputs_freq, outputs_num = model(inputs)\n",
        "        loss_freq = criterion_freq(outputs_freq, targets_freq)\n",
        "        loss_num = criterion_num(outputs_num, targets_num)\n",
        "        loss = loss_freq + loss_num\n",
        "        loss.backward()\n",
        "        optimizer.step()\n",
        "        running_loss_freq += loss_freq.item()\n",
        "        running_loss_num += loss_num.item()\n",
        "\n",
        "    if (epoch+1) % 100 == 0:\n",
        "        print(f'Epoch [{epoch+1}/{epochs}], Loss Frequency: {running_loss_freq/len(train_loader):.4f}, Loss Num: {running_loss_num/len(train_loader):.4f}')\n"
      ],
      "metadata": {
        "colab": {
          "base_uri": "https://localhost:8080/"
        },
        "id": "JGwZv0iDuejn",
        "outputId": "527ccf06-8964-4a5c-92fc-5f3e9540ef89"
      },
      "execution_count": 2,
      "outputs": [
        {
          "output_type": "stream",
          "name": "stdout",
          "text": [
            "Epoch [100/1000], Loss Frequency: 0.0085, Loss Num: 0.0431\n",
            "Epoch [200/1000], Loss Frequency: 0.0074, Loss Num: 0.0228\n",
            "Epoch [300/1000], Loss Frequency: 0.0067, Loss Num: 0.0145\n",
            "Epoch [400/1000], Loss Frequency: 0.0059, Loss Num: 0.0116\n",
            "Epoch [500/1000], Loss Frequency: 0.0066, Loss Num: 0.0093\n",
            "Epoch [600/1000], Loss Frequency: 0.0061, Loss Num: 0.0093\n",
            "Epoch [700/1000], Loss Frequency: 0.0055, Loss Num: 0.0096\n",
            "Epoch [800/1000], Loss Frequency: 0.0046, Loss Num: 0.0089\n",
            "Epoch [900/1000], Loss Frequency: 0.0051, Loss Num: 0.0080\n",
            "Epoch [1000/1000], Loss Frequency: 0.0057, Loss Num: 0.0144\n"
          ]
        }
      ]
    },
    {
      "cell_type": "markdown",
      "source": [
        "# Kiểm tra Mô hình"
      ],
      "metadata": {
        "id": "uA0cOZCiutrp"
      }
    },
    {
      "cell_type": "code",
      "source": [
        "# Kiểm tra mô hình\n",
        "def evaluate_model(model, test_loader, criterion_freq, criterion_num):\n",
        "    model.eval()\n",
        "    test_loss_freq = 0.0\n",
        "    test_loss_num = 0.0\n",
        "    with torch.no_grad():\n",
        "        for inputs, targets_freq, targets_num in test_loader:\n",
        "            outputs_freq, outputs_num = model(inputs)\n",
        "            loss_freq = criterion_freq(outputs_freq, targets_freq)\n",
        "            loss_num = criterion_num(outputs_num, targets_num)\n",
        "            test_loss_freq += loss_freq.item()\n",
        "            test_loss_num += loss_num.item()\n",
        "\n",
        "    avg_test_loss_freq = test_loss_freq / len(test_loader)\n",
        "    avg_test_loss_num = test_loss_num / len(test_loader)\n",
        "    print(f'Test Loss Frequency: {avg_test_loss_freq:.4f}, Test Loss Num: {avg_test_loss_num:.4f}')\n",
        "\n",
        "evaluate_model(model, test_loader, criterion_freq, criterion_num)\n"
      ],
      "metadata": {
        "colab": {
          "base_uri": "https://localhost:8080/"
        },
        "id": "gcd_mwohuxuP",
        "outputId": "b7ed6f5c-4712-439c-e5a0-cca29e861c1b"
      },
      "execution_count": 3,
      "outputs": [
        {
          "output_type": "stream",
          "name": "stdout",
          "text": [
            "Test Loss Frequency: 0.0093, Test Loss Num: 0.1256\n"
          ]
        }
      ]
    },
    {
      "cell_type": "code",
      "source": [
        "# Dự đoán với 5 hàng đầu trong tập dữ liệu\n",
        "def predict_top_n(model, X_data, scaler, y_scaler, n=53):\n",
        "    model.eval()\n",
        "    input_df = pd.DataFrame(X_data[:n], columns=['ls1 (mm)', 'ls2 (mm)', 'ls3 (mm)', 'ws1 (mm)', 'ws2 (mm)', 'ws3 (mm)'])\n",
        "    input_data_scaled = scaler.transform(input_df)  # Chuẩn hóa dữ liệu\n",
        "    input_tensor = torch.tensor(input_data_scaled, dtype=torch.float32)\n",
        "    with torch.no_grad():\n",
        "        pred_freq, pred_num = model(input_tensor)\n",
        "    pred_freq = y_scaler.inverse_transform(pred_freq.numpy())  # Chuyển đổi ngược lại tần số cộng hưởng\n",
        "    pred_num = pred_num.numpy()\n",
        "    # Kiểm tra và loại bỏ tần số cộng hưởng thứ ba nếu số lượng dự đoán là 2\n",
        "    for i in range(len(pred_num)):\n",
        "        if pred_num[i] < 2.5:  # Nếu dự đoán số lượng tần số cộng hưởng nhỏ hơn 2.5, coi như có 2 tần số\n",
        "            pred_freq[i][2] = np.nan\n",
        "    return pred_freq\n",
        "\n",
        "# Lấy 5 hàng đầu tiên từ dữ liệu gốc để kiểm tra\n",
        "top_n_input = df[['ls1 (mm)', 'ls2 (mm)', 'ls3 (mm)', 'ws1 (mm)', 'ws2 (mm)', 'ws3 (mm)']].head(5).values\n",
        "top_n_actual = df[['Frequency 1 (GHz)', 'Frequency 2 (GHz)', 'Frequency 3 (GHz)']].head(5).values\n",
        "\n",
        "# Dự đoán\n",
        "predicted_frequencies_top_n = predict_top_n(model, top_n_input, scaler, y_scaler, n=5)\n",
        "\n",
        "# Hiển thị kết quả\n",
        "print(\"Actual Frequencies:\\n\", top_n_actual)\n",
        "print(\"Predicted Frequencies:\\n\", predicted_frequencies_top_n)\n"
      ],
      "metadata": {
        "colab": {
          "base_uri": "https://localhost:8080/"
        },
        "id": "W1C5ggD6vHw3",
        "outputId": "3193ee08-89bf-4db1-c49c-8a0885f33d0f"
      },
      "execution_count": 4,
      "outputs": [
        {
          "output_type": "stream",
          "name": "stdout",
          "text": [
            "Actual Frequencies:\n",
            " [[2.55 5.3  5.85]\n",
            " [2.5  5.45  nan]\n",
            " [2.5  5.45  nan]\n",
            " [2.5  5.35  nan]\n",
            " [2.5  5.3  5.85]]\n",
            "Predicted Frequencies:\n",
            " [[2.5171857 5.249425  5.8012443]\n",
            " [2.4835267 5.3392286       nan]\n",
            " [2.463023  5.376052        nan]\n",
            " [2.4989805 5.307441        nan]\n",
            " [2.4903371 5.2584786 5.815308 ]]\n"
          ]
        }
      ]
    },
    {
      "cell_type": "code",
      "source": [
        "# Dự đoán với input cụ thể\n",
        "def predict(model, input_data, scaler, y_scaler):\n",
        "    model.eval()\n",
        "    # Chuyển đổi input thành DataFrame tạm thời\n",
        "    input_df = pd.DataFrame([input_data], columns=['ls1 (mm)', 'ls2 (mm)', 'ls3 (mm)', 'ws1 (mm)', 'ws2 (mm)', 'ws3 (mm)'])\n",
        "    input_data_scaled = scaler.transform(input_df)  # Chuẩn hóa dữ liệu\n",
        "    input_tensor = torch.tensor(input_data_scaled, dtype=torch.float32)\n",
        "    with torch.no_grad():\n",
        "        pred_freq, pred_num = model(input_tensor)\n",
        "    pred_freq = y_scaler.inverse_transform(pred_freq.numpy())  # Chuyển đổi ngược lại tần số cộng hưởng\n",
        "    pred_num = pred_num.numpy()\n",
        "    # Kiểm tra và loại bỏ tần số cộng hưởng thứ ba nếu số lượng dự đoán là 2\n",
        "    if pred_num < 2.5:  # Nếu dự đoán số lượng tần số cộng hưởng nhỏ hơn 2.5, coi như có 2 tần số\n",
        "        pred_freq[0][2] = np.nan\n",
        "    return pred_freq"
      ],
      "metadata": {
        "id": "RqoPBka4KLjB"
      },
      "execution_count": 15,
      "outputs": []
    },
    {
      "cell_type": "code",
      "source": [
        "# Ví dụ input mới\n",
        "new_input = [7.6, 9.1, 7.8, 0.7, 1.85, 0.3]\n",
        "predicted_frequencies = predict(model, new_input, scaler, y_scaler)\n",
        "print(f'Dự đoán tần số cộng hưởng: {predicted_frequencies}')\n",
        "#Ket qua thuc te tren HFSS: 2.45 5.25 5.9"
      ],
      "metadata": {
        "colab": {
          "base_uri": "https://localhost:8080/"
        },
        "id": "WVJMQrI-Iyob",
        "outputId": "e6f07c1b-679b-4a6d-970d-12811042135d"
      },
      "execution_count": 16,
      "outputs": [
        {
          "output_type": "stream",
          "name": "stdout",
          "text": [
            "Dự đoán tần số cộng hưởng: [[2.4573414 5.2167425 5.875263 ]]\n"
          ]
        }
      ]
    }
  ]
}